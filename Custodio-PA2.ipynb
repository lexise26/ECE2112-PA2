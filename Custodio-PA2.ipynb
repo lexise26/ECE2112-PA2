{
 "cells": [
  {
   "cell_type": "markdown",
   "id": "019a5e57-c902-4ba8-9905-ba0685d5c360",
   "metadata": {},
   "source": [
    "# ECE2112 - Programming Assignment 2\n",
    "#### Custodio, Louise Angela G.\n",
    "#### 2ECE-D"
   ]
  },
  {
   "cell_type": "markdown",
   "id": "b8dcca67-e276-484a-a21c-248cf90ff8c2",
   "metadata": {},
   "source": [
    "## #1 NORMALIZATION PROBLEM:"
   ]
  },
  {
   "cell_type": "markdown",
   "id": "7e4c3c60-5ef4-4ce6-80a5-e825c1be1170",
   "metadata": {},
   "source": [
    "Normalization is one of the most basic preprocessing techniques in\n",
    "data analytics. This involves centering and scaling process. Centering means subtracting the data from the\n",
    "mean and scaling means dividing with its standard deviation. "
   ]
  },
  {
   "cell_type": "markdown",
   "id": "cd51e29e-41d8-415d-9d25-515ee0378f3c",
   "metadata": {},
   "source": [
    "Expected Input: \n",
    "A randomly generated 5x5 NumPy array of float values between 0 and 1. The first matrix represents the original dataset 𝑋. \n",
    "\n",
    "(Note: There is no manual input as the matrix will be randomly generated.)\n",
    "\n",
    "Expected Output: \n",
    "A normalized 5x5 NumPy array where each value is normalized according to the formula 𝑍 = (𝑋-𝑥bar)/𝜎, with a mean of 0 and a standard deviation of 1."
   ]
  },
  {
   "cell_type": "code",
   "execution_count": 5,
   "id": "902d657e-4bb6-4c0b-814b-9749f660aa2b",
   "metadata": {},
   "outputs": [],
   "source": [
    "import numpy as np"
   ]
  },
  {
   "cell_type": "code",
   "execution_count": 6,
   "id": "22759866-a223-46ad-9d52-c74cc972a981",
   "metadata": {},
   "outputs": [
    {
     "name": "stdout",
     "output_type": "stream",
     "text": [
      "Original Array X:\n",
      "[[0.33752359 0.58869063 0.94416827 0.88885209 0.68664553]\n",
      " [0.90884864 0.24662983 0.08046505 0.77448618 0.10022813]\n",
      " [0.99257561 0.74430729 0.63631818 0.26872616 0.27948361]\n",
      " [0.23411741 0.47050027 0.51777925 0.01003791 0.48243333]\n",
      " [0.1116851  0.36563682 0.70776885 0.33803747 0.47704102]]\n",
      " \n",
      "Array X Mean:  0.48771945010751083\n",
      " \n",
      "Array X Standard Deviation:  0.2849828295838069\n",
      " \n"
     ]
    },
    {
     "data": {
      "text/plain": [
       "array([[-0.52703477,  0.35430619,  1.60167131,  1.40756776,  0.69802831],\n",
       "       [ 1.47773533, -0.84597946, -1.42904889,  1.00625969, -1.35970058],\n",
       "       [ 1.77153186,  0.90036244,  0.52143046, -0.7684438 , -0.7306961 ],\n",
       "       [-0.88988534, -0.06042182,  0.10547935, -1.67617656, -0.0185489 ],\n",
       "       [-1.31949825, -0.42838591,  0.77214969, -0.52523157, -0.03747042]])"
      ]
     },
     "execution_count": 6,
     "metadata": {},
     "output_type": "execute_result"
    }
   ],
   "source": [
    "X = np.random.random((5,5))  \n",
    "print(\"Original Array X:\")   \n",
    "print(X)   \n",
    "print(\" \")   \n",
    "\n",
    "xbar = X.mean()   \n",
    "print(\"Array X Mean: \", xbar)   \n",
    "print(\" \")   \n",
    "\n",
    "sd = X.std()  \n",
    "print(\"Array X Standard Deviation: \", sd)  \n",
    "print(\" \")  \n",
    "\n",
    "Z = (X - xbar)/(sd)   \n",
    "\n",
    "np.save('X_normalized.npy', Z)\n",
    "np.load('X_normalized.npy')"
   ]
  },
  {
   "cell_type": "markdown",
   "id": "9b00fc22-a328-47b6-bfb3-80bbd9d5e5a1",
   "metadata": {},
   "source": [
    "## #2 DIVISIBLE BY 3 PROBLEM:"
   ]
  },
  {
   "cell_type": "markdown",
   "id": "113acc70-4a4c-42a6-98f9-019475b6af90",
   "metadata": {},
   "source": [
    "The task involves creating a 10x10 NumPy array 𝐴, where each element represents the square of the first 100 positive integers. \n",
    "From this array, the elements divisible by 3 must be identified."
   ]
  },
  {
   "cell_type": "markdown",
   "id": "662d8c5b-c464-42bb-ba6e-6ee8caf06fce",
   "metadata": {},
   "source": [
    "Expected Input: \n",
    "A 10x10 NumPy array A where each element is the square of the first 100 positive integers that range to 1-1000.\n",
    "\n",
    "(Note: There is no manual input as the first 100 positive integers will be automatically squared.)\n",
    "\n",
    "Expected Output: \n",
    "A NumPy array containing only the elements from the input that are divisible by 3."
   ]
  },
  {
   "cell_type": "code",
   "execution_count": 10,
   "id": "69b15dcd-836f-4bd5-af2f-332733c4aeff",
   "metadata": {},
   "outputs": [
    {
     "name": "stdout",
     "output_type": "stream",
     "text": [
      "A = \n",
      "[[    1     4     9    16    25    36    49    64    81   100]\n",
      " [  121   144   169   196   225   256   289   324   361   400]\n",
      " [  441   484   529   576   625   676   729   784   841   900]\n",
      " [  961  1024  1089  1156  1225  1296  1369  1444  1521  1600]\n",
      " [ 1681  1764  1849  1936  2025  2116  2209  2304  2401  2500]\n",
      " [ 2601  2704  2809  2916  3025  3136  3249  3364  3481  3600]\n",
      " [ 3721  3844  3969  4096  4225  4356  4489  4624  4761  4900]\n",
      " [ 5041  5184  5329  5476  5625  5776  5929  6084  6241  6400]\n",
      " [ 6561  6724  6889  7056  7225  7396  7569  7744  7921  8100]\n",
      " [ 8281  8464  8649  8836  9025  9216  9409  9604  9801 10000]]\n"
     ]
    },
    {
     "data": {
      "text/plain": [
       "array([   9,   36,   81,  144,  225,  324,  441,  576,  729,  900, 1089,\n",
       "       1296, 1521, 1764, 2025, 2304, 2601, 2916, 3249, 3600, 3969, 4356,\n",
       "       4761, 5184, 5625, 6084, 6561, 7056, 7569, 8100, 8649, 9216, 9801])"
      ]
     },
     "execution_count": 10,
     "metadata": {},
     "output_type": "execute_result"
    }
   ],
   "source": [
    "a = np.array(range(1,101))**2   \n",
    "A = np.resize(a, (10,10))  \n",
    "print(\"A = \")   \n",
    "print(A)    \n",
    "  \n",
    "div = A[A % 3 == 0]     \n",
    "\n",
    "np.save('div_by_3.npy', div)\n",
    "np.load('div_by_3.npy')"
   ]
  }
 ],
 "metadata": {
  "kernelspec": {
   "display_name": "Python 3 (ipykernel)",
   "language": "python",
   "name": "python3"
  },
  "language_info": {
   "codemirror_mode": {
    "name": "ipython",
    "version": 3
   },
   "file_extension": ".py",
   "mimetype": "text/x-python",
   "name": "python",
   "nbconvert_exporter": "python",
   "pygments_lexer": "ipython3",
   "version": "3.12.4"
  }
 },
 "nbformat": 4,
 "nbformat_minor": 5
}
