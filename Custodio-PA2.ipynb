{
 "cells": [
  {
   "cell_type": "markdown",
   "id": "019a5e57-c902-4ba8-9905-ba0685d5c360",
   "metadata": {},
   "source": [
    "# ECE2112 - Programming Assignment 2\n",
    "#### Custodio, Louise Angela G.\n",
    "#### 2ECE-D"
   ]
  },
  {
   "cell_type": "markdown",
   "id": "b8dcca67-e276-484a-a21c-248cf90ff8c2",
   "metadata": {},
   "source": [
    "## #1 NORMALIZATION PROBLEM:"
   ]
  },
  {
   "cell_type": "code",
   "execution_count": 3,
   "id": "902d657e-4bb6-4c0b-814b-9749f660aa2b",
   "metadata": {},
   "outputs": [],
   "source": [
    "import numpy as np"
   ]
  },
  {
   "cell_type": "code",
   "execution_count": 19,
   "id": "22759866-a223-46ad-9d52-c74cc972a981",
   "metadata": {},
   "outputs": [
    {
     "name": "stdout",
     "output_type": "stream",
     "text": [
      "Original Array X:\n",
      "[[0.42438587 0.71734326 0.08408038 0.49182852 0.9347497 ]\n",
      " [0.41335421 0.05811014 0.92826722 0.49749109 0.66407726]\n",
      " [0.76727938 0.15442465 0.16974381 0.66057582 0.41458171]\n",
      " [0.79330409 0.27671688 0.17745735 0.88463169 0.10160175]\n",
      " [0.50243757 0.03310108 0.93921435 0.11922228 0.9359804 ]]\n",
      " \n",
      "Array X Mean:  0.48575841802328523\n",
      " \n",
      "Array X Standard Deviation:  0.31296216465759247\n",
      " \n",
      "Normalization of X:\n",
      "[[-0.19610213  0.73997712 -1.28347155  0.01939565  1.43465037]\n",
      " [-0.23135132 -1.36645361  1.41393706  0.0374891   0.56977762]\n",
      " [ 0.89953671 -1.05870233 -1.00975338  0.55858956 -0.22742911]\n",
      " [ 0.9826928  -0.66794507 -0.98510651  1.27450957 -1.22748599]\n",
      " [ 0.05329446 -1.44636441  1.44891614 -1.17118355  1.4385828 ]]\n"
     ]
    }
   ],
   "source": [
    "X = np.random.random((5,5))  \n",
    "print(\"Original Array X:\")   \n",
    "print(X)   \n",
    "print(\" \")   \n",
    "\n",
    "xbar = X.mean()   \n",
    "print(\"Array X Mean: \", xbar)   \n",
    "print(\" \")   \n",
    "\n",
    "sd = X.std()  \n",
    "print(\"Array X Standard Deviation: \", sd)  \n",
    "print(\" \")  \n",
    "\n",
    "Z = (X - xbar)/(sd)   \n",
    "print(\"Normalization of X:\")  \n",
    "print(Z)"
   ]
  },
  {
   "cell_type": "markdown",
   "id": "9b00fc22-a328-47b6-bfb3-80bbd9d5e5a1",
   "metadata": {},
   "source": [
    "## #2 DIVISIBLE BY 3 PROBLEM:"
   ]
  },
  {
   "cell_type": "code",
   "execution_count": 23,
   "id": "69b15dcd-836f-4bd5-af2f-332733c4aeff",
   "metadata": {},
   "outputs": [
    {
     "name": "stdout",
     "output_type": "stream",
     "text": [
      "A = \n",
      "[[    1     4     9    16    25    36    49    64    81   100]\n",
      " [  121   144   169   196   225   256   289   324   361   400]\n",
      " [  441   484   529   576   625   676   729   784   841   900]\n",
      " [  961  1024  1089  1156  1225  1296  1369  1444  1521  1600]\n",
      " [ 1681  1764  1849  1936  2025  2116  2209  2304  2401  2500]\n",
      " [ 2601  2704  2809  2916  3025  3136  3249  3364  3481  3600]\n",
      " [ 3721  3844  3969  4096  4225  4356  4489  4624  4761  4900]\n",
      " [ 5041  5184  5329  5476  5625  5776  5929  6084  6241  6400]\n",
      " [ 6561  6724  6889  7056  7225  7396  7569  7744  7921  8100]\n",
      " [ 8281  8464  8649  8836  9025  9216  9409  9604  9801 10000]]\n",
      " \n",
      "Elements divisible by 3: \n",
      "B = \n",
      "[[   9   36   81  144  225  324  441  576  729  900 1089]\n",
      " [1296 1521 1764 2025 2304 2601 2916 3249 3600 3969 4356]\n",
      " [4761 5184 5625 6084 6561 7056 7569 8100 8649 9216 9801]]\n"
     ]
    }
   ],
   "source": [
    "a = np.array(range(1,101))**2   \n",
    "A = np.resize(a, (10,10))  \n",
    "print(\"A = \")   \n",
    "print(A)   \n",
    "print(\" \")   \n",
    "\n",
    "print(\"Elements divisible by 3: \")  \n",
    "print(\"B = \")   \n",
    "div = A[A%3==0]   \n",
    "elem = np.resize(div, (3,11))   \n",
    "print(elem)   "
   ]
  },
  {
   "cell_type": "code",
   "execution_count": null,
   "id": "d3734fb2-be2a-426d-8bd5-90b692a7ae24",
   "metadata": {},
   "outputs": [],
   "source": []
  }
 ],
 "metadata": {
  "kernelspec": {
   "display_name": "Python 3 (ipykernel)",
   "language": "python",
   "name": "python3"
  },
  "language_info": {
   "codemirror_mode": {
    "name": "ipython",
    "version": 3
   },
   "file_extension": ".py",
   "mimetype": "text/x-python",
   "name": "python",
   "nbconvert_exporter": "python",
   "pygments_lexer": "ipython3",
   "version": "3.12.4"
  }
 },
 "nbformat": 4,
 "nbformat_minor": 5
}
