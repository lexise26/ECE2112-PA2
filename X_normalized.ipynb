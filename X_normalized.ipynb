{
 "cells": [
  {
   "cell_type": "markdown",
   "id": "a06fe340-93b9-4b54-a4a1-b4e74abe68ea",
   "metadata": {},
   "source": [
    "## EXPERIMENT 2: NUMERICAL PYTHON (NUMPY)"
   ]
  },
  {
   "cell_type": "markdown",
   "id": "8b4a7041-13fe-4977-a702-d4a0160fb9de",
   "metadata": {},
   "source": [
    "#### Custodio, Louise Angela G.\n",
    "#### 2ECE-D"
   ]
  },
  {
   "cell_type": "markdown",
   "id": "9b087af2-0d73-406d-bdb9-d851bed0e913",
   "metadata": {},
   "source": [
    "### #1 NORMALIZATION PROBLEM:"
   ]
  },
  {
   "cell_type": "markdown",
   "id": "36adcd17-ee44-4dea-a376-86cab2a980b5",
   "metadata": {},
   "source": [
    "Normalization is one of the most basic preprocessing techniques in\r\n",
    "data analytics. This involves centering and scaling process. Centering means subtracting the data from the\r\n",
    "mean and scaling means dividing with its standard deviation. "
   ]
  },
  {
   "cell_type": "markdown",
   "id": "c9760532-ccee-47c4-9c15-3574bbc621e5",
   "metadata": {},
   "source": [
    "Expected Input: \n",
    "A randomly generated 5x5 NumPy array of float values between 0 and 1. The first matrix represents the original dataset 𝑋. \n",
    "\n",
    "(Note: There is no manual input as the matrix will be randomly generated.)\n",
    "\n",
    "Expected Output: \n",
    "A normalized 5x5 NumPy array where each value is normalized according to the formula 𝑍 = (𝑋-𝑥bar)/𝜎, with a mean of 0 and a standard deviation of 1."
   ]
  },
  {
   "cell_type": "code",
   "execution_count": 6,
   "id": "7029e95a-3b38-4357-ae1b-19c41e44b92f",
   "metadata": {},
   "outputs": [],
   "source": [
    "import numpy as np"
   ]
  },
  {
   "cell_type": "code",
   "execution_count": 16,
   "id": "d631f934-3585-4982-9f4c-5706b06f2067",
   "metadata": {},
   "outputs": [
    {
     "name": "stdout",
     "output_type": "stream",
     "text": [
      "Original Array X:\n",
      "[[0.18660008 0.80903505 0.09512125 0.91850667 0.4150998 ]\n",
      " [0.12586578 0.0404285  0.004406   0.76892848 0.72464762]\n",
      " [0.78953472 0.58710837 0.21462462 0.68755254 0.24650941]\n",
      " [0.69722387 0.36428258 0.90673319 0.05388998 0.62391131]\n",
      " [0.85955114 0.62676179 0.92699266 0.77023552 0.71430906]]\n",
      " \n",
      "Array X Mean:  0.526314399000223\n",
      " \n",
      "Array X Standard Deviation:  0.30972954224961124\n",
      " \n"
     ]
    },
    {
     "data": {
      "text/plain": [
       "array([[-1.09680954,  0.91279846, -1.39216023,  1.2662411 , -0.35907005],\n",
       "       [-1.29289772, -1.56874251, -1.6850456 ,  0.78330946,  0.64034323],\n",
       "       [ 0.84983925,  0.19628083, -1.00632887,  0.52057719, -0.9033849 ],\n",
       "       [ 0.5518023 , -0.52313969,  1.22822896, -1.52528045,  0.31510364],\n",
       "       [ 1.07589587,  0.32430678,  1.29363916,  0.78752939,  0.60696393]])"
      ]
     },
     "execution_count": 16,
     "metadata": {},
     "output_type": "execute_result"
    }
   ],
   "source": [
    "X = np.random.random((5,5))  \n",
    "print(\"Original Array X:\")   \n",
    "print(X)   \n",
    "print(\" \")   \n",
    "\n",
    "xbar = X.mean()   \n",
    "print(\"Array X Mean: \", xbar)   \n",
    "print(\" \")   \n",
    "\n",
    "sd = X.std()  \n",
    "print(\"Array X Standard Deviation: \", sd)  \n",
    "print(\" \")  \n",
    "\n",
    "Z = (X - xbar)/(sd)   \n",
    "\n",
    "np.save('X_normalized.npy', Z)\n",
    "np.load('X_normalized.npy')"
   ]
  }
 ],
 "metadata": {
  "kernelspec": {
   "display_name": "Python 3 (ipykernel)",
   "language": "python",
   "name": "python3"
  },
  "language_info": {
   "codemirror_mode": {
    "name": "ipython",
    "version": 3
   },
   "file_extension": ".py",
   "mimetype": "text/x-python",
   "name": "python",
   "nbconvert_exporter": "python",
   "pygments_lexer": "ipython3",
   "version": "3.12.4"
  }
 },
 "nbformat": 4,
 "nbformat_minor": 5
}
