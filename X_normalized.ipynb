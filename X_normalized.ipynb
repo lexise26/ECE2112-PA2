{
 "cells": [
  {
   "cell_type": "markdown",
   "id": "a06fe340-93b9-4b54-a4a1-b4e74abe68ea",
   "metadata": {},
   "source": [
    "## EXPERIMENT 2: NUMERICAL PYTHON (NUMPY)"
   ]
  },
  {
   "cell_type": "markdown",
   "id": "8b4a7041-13fe-4977-a702-d4a0160fb9de",
   "metadata": {},
   "source": [
    "#### Custodio, Louise Angela G.\n",
    "#### 2ECE-D"
   ]
  },
  {
   "cell_type": "markdown",
   "id": "9b087af2-0d73-406d-bdb9-d851bed0e913",
   "metadata": {},
   "source": [
    "### #1 NORMALIZATION PROBLEM:"
   ]
  },
  {
   "cell_type": "markdown",
   "id": "36adcd17-ee44-4dea-a376-86cab2a980b5",
   "metadata": {},
   "source": [
    "Normalization is one of the most basic preprocessing techniques in\r\n",
    "data analytics. This involves centering and scaling process. Centering means subtracting the data from the\r\n",
    "mean and scaling means dividing with its standard deviation. "
   ]
  },
  {
   "cell_type": "markdown",
   "id": "c9760532-ccee-47c4-9c15-3574bbc621e5",
   "metadata": {},
   "source": [
    "Expected Input: \n",
    "A randomly generated 5x5 NumPy array of float values between 0 and 1. The first matrix represents the original dataset 𝑋. \n",
    "\n",
    "(Note: There is no manual input as the matrix will be randomly generated.)\n",
    "\n",
    "Expected Output: \n",
    "A normalized 5x5 NumPy array where each value is normalized according to the formula 𝑍 = (𝑋-𝑥bar)/𝜎, with a mean of 0 and a standard deviation of 1."
   ]
  },
  {
   "cell_type": "code",
   "execution_count": 6,
   "id": "7029e95a-3b38-4357-ae1b-19c41e44b92f",
   "metadata": {},
   "outputs": [],
   "source": [
    "import numpy as np"
   ]
  },
  {
   "cell_type": "code",
   "execution_count": 12,
   "id": "d631f934-3585-4982-9f4c-5706b06f2067",
   "metadata": {},
   "outputs": [
    {
     "name": "stdout",
     "output_type": "stream",
     "text": [
      "Original Array X:\n",
      "[[0.893601   0.22427361 0.78546893 0.23746517 0.57598927]\n",
      " [0.94757641 0.28352797 0.34391067 0.33357342 0.23646142]\n",
      " [0.96093347 0.02286107 0.10922931 0.11797436 0.93736366]\n",
      " [0.26939188 0.62803367 0.60333938 0.96777943 0.66994032]\n",
      " [0.27242256 0.22769227 0.08710636 0.84997719 0.85949039]]\n",
      " \n",
      "Array X Mean:  0.4978153280710584\n",
      " \n",
      "Array X Standard Deviation:  0.3201163567560161\n",
      " \n",
      "Normalization of X:\n",
      "[[ 1.23638065 -0.85450716  0.89859077 -0.81329851  0.24420478]\n",
      " [ 1.40499249 -0.66940458 -0.48077724 -0.5130694  -0.81643408]\n",
      " [ 1.44671816 -1.48369257 -1.21388991 -1.18657158  1.37308927]\n",
      " [-0.71356382  0.4067844   0.32964279  1.46810401  0.53769509]\n",
      " [-0.70409637 -0.84382773 -1.28299902  1.10010581  1.12982375]]\n"
     ]
    },
    {
     "data": {
      "text/plain": [
       "array([[ 1.23638065, -0.85450716,  0.89859077, -0.81329851,  0.24420478],\n",
       "       [ 1.40499249, -0.66940458, -0.48077724, -0.5130694 , -0.81643408],\n",
       "       [ 1.44671816, -1.48369257, -1.21388991, -1.18657158,  1.37308927],\n",
       "       [-0.71356382,  0.4067844 ,  0.32964279,  1.46810401,  0.53769509],\n",
       "       [-0.70409637, -0.84382773, -1.28299902,  1.10010581,  1.12982375]])"
      ]
     },
     "execution_count": 12,
     "metadata": {},
     "output_type": "execute_result"
    }
   ],
   "source": [
    "X = np.random.random((5,5))  \n",
    "print(\"Original Array X:\")   \n",
    "print(X)   \n",
    "print(\" \")   \n",
    "\n",
    "xbar = X.mean()   \n",
    "print(\"Array X Mean: \", xbar)   \n",
    "print(\" \")   \n",
    "\n",
    "sd = X.std()  \n",
    "print(\"Array X Standard Deviation: \", sd)  \n",
    "print(\" \")  \n",
    "\n",
    "Z = (X - xbar)/(sd)   \n",
    "print(\"Normalization of X:\")  \n",
    "print(Z)\n",
    "\n",
    "np.save('X_normalized.npy',Z)\n",
    "np.load('X_normalized.npy')"
   ]
  },
  {
   "cell_type": "code",
   "execution_count": null,
   "id": "9686ed21-35b0-4629-a9b4-83f3cf71aae8",
   "metadata": {},
   "outputs": [],
   "source": []
  },
  {
   "cell_type": "code",
   "execution_count": null,
   "id": "9a87e5ee-852a-4a34-b8a9-a15624bdc4b9",
   "metadata": {},
   "outputs": [],
   "source": []
  }
 ],
 "metadata": {
  "kernelspec": {
   "display_name": "Python 3 (ipykernel)",
   "language": "python",
   "name": "python3"
  },
  "language_info": {
   "codemirror_mode": {
    "name": "ipython",
    "version": 3
   },
   "file_extension": ".py",
   "mimetype": "text/x-python",
   "name": "python",
   "nbconvert_exporter": "python",
   "pygments_lexer": "ipython3",
   "version": "3.12.4"
  }
 },
 "nbformat": 4,
 "nbformat_minor": 5
}
